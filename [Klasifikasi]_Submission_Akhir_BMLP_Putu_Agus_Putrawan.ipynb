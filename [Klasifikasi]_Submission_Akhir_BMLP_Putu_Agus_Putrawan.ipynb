{
  "nbformat": 4,
  "nbformat_minor": 0,
  "metadata": {
    "colab": {
      "provenance": [],
      "include_colab_link": true
    },
    "kernelspec": {
      "name": "python3",
      "display_name": "Python 3"
    },
    "language_info": {
      "name": "python"
    }
  },
  "cells": [
    {
      "cell_type": "markdown",
      "metadata": {
        "id": "view-in-github",
        "colab_type": "text"
      },
      "source": [
        "<a href=\"https://colab.research.google.com/github/agusputrawan/Clustering_Classification_Project/blob/main/%5BKlasifikasi%5D_Submission_Akhir_BMLP_Putu_Agus_Putrawan.ipynb\" target=\"_parent\"><img src=\"https://colab.research.google.com/assets/colab-badge.svg\" alt=\"Open In Colab\"/></a>"
      ]
    },
    {
      "cell_type": "markdown",
      "source": [
        "# **1. Import Library**"
      ],
      "metadata": {
        "id": "fKADPWcFKlj3"
      }
    },
    {
      "cell_type": "markdown",
      "source": [
        "Pada tahap ini, Anda perlu mengimpor beberapa pustaka (library) Python yang dibutuhkan untuk analisis data dan pembangunan model machine learning."
      ],
      "metadata": {
        "id": "LgA3ERnVn84N"
      }
    },
    {
      "cell_type": "code",
      "source": [
        "import pandas as pd\n",
        "import numpy as np\n",
        "from sklearn.model_selection import train_test_split\n",
        "from sklearn.ensemble import RandomForestClassifier\n",
        "from sklearn.linear_model import LogisticRegression\n",
        "from sklearn.tree import DecisionTreeClassifier\n",
        "from sklearn.neighbors import KNeighborsClassifier\n",
        "from sklearn.metrics import accuracy_score, f1_score, confusion_matrix, classification_report,  precision_score, recall_score\n",
        "import seaborn as sns\n",
        "import seaborn as sns\n",
        "import matplotlib.pyplot as plt"
      ],
      "metadata": {
        "id": "BlmvjLY9M4Yj"
      },
      "execution_count": 1,
      "outputs": []
    },
    {
      "cell_type": "markdown",
      "source": [
        "# **2. Memuat Dataset dari Hasil Clustering**"
      ],
      "metadata": {
        "id": "f3YIEnAFKrKL"
      }
    },
    {
      "cell_type": "markdown",
      "source": [
        "Memuat dataset hasil clustering dari file CSV ke dalam variabel DataFrame."
      ],
      "metadata": {
        "id": "Ey3ItwTen_7E"
      }
    },
    {
      "cell_type": "code",
      "source": [
        "df = pd.read_csv('https://raw.githubusercontent.com/agusputrawan/Clustering_Classification_Project/refs/heads/main/Dataset/credit_card_clustering.csv')\n",
        "df.head()"
      ],
      "metadata": {
        "id": "GHCGNTyrM5fS",
        "colab": {
          "base_uri": "https://localhost:8080/",
          "height": 226
        },
        "outputId": "3c7e637c-0b47-4e59-844c-3c2f1457143d"
      },
      "execution_count": 2,
      "outputs": [
        {
          "output_type": "execute_result",
          "data": {
            "text/plain": [
              "         SALDO  FREKUENSI_SALDO  TOTAL_PEMBELIAN  PEMBELIAN_TUNGGAL  \\\n",
              "0    40.900749         0.818182            95.40               0.00   \n",
              "1  3202.467416         0.909091             0.00               0.00   \n",
              "2  2495.148862         1.000000           773.17             773.17   \n",
              "3   817.714335         1.000000            16.00              16.00   \n",
              "4  1809.828751         1.000000          1333.28               0.00   \n",
              "\n",
              "   PEMBELIAN_CICILAN  PENARIKAN_TUNAI  FREKUENSI_PEMBELIAN  \\\n",
              "0              95.40         0.000000             0.166667   \n",
              "1               0.00      6442.945483             0.000000   \n",
              "2               0.00         0.000000             1.000000   \n",
              "3               0.00         0.000000             0.083333   \n",
              "4            1333.28         0.000000             0.666667   \n",
              "\n",
              "   FREKUENSI_PEMBELIAN_TUNGGAL  FREKUENSI_PEMBELIAN_CICILAN  \\\n",
              "0                     0.000000                     0.083333   \n",
              "1                     0.000000                     0.000000   \n",
              "2                     1.000000                     0.000000   \n",
              "3                     0.083333                     0.000000   \n",
              "4                     0.000000                     0.583333   \n",
              "\n",
              "   FREKUENSI_PENARIKAN_TUNAI  TRANSAKSI_PENARIKAN_TUNAI  TRANSAKSI_PEMBELIAN  \\\n",
              "0                       0.00                          0                    2   \n",
              "1                       0.25                          4                    0   \n",
              "2                       0.00                          0                   12   \n",
              "3                       0.00                          0                    1   \n",
              "4                       0.00                          0                    8   \n",
              "\n",
              "   BATAS_KREDIT   PEMBAYARAN  PEMBAYARAN_MINIMUM  PERSEN_PEMBAYARAN_LUNAS  \\\n",
              "0        1000.0   201.802084          139.509787                 0.000000   \n",
              "1        7000.0  4103.032597         1072.340217                 0.222222   \n",
              "2        7500.0   622.066742          627.284787                 0.000000   \n",
              "3        1200.0   678.334763          244.791237                 0.000000   \n",
              "4        1800.0  1400.057770         2407.246035                 0.000000   \n",
              "\n",
              "   MASA_LAYANAN  cluster  \n",
              "0            12        1  \n",
              "1            12        0  \n",
              "2            12        0  \n",
              "3            12        1  \n",
              "4            12        1  "
            ],
            "text/html": [
              "\n",
              "  <div id=\"df-0adbb423-1aa0-4939-b012-09a230c945d6\" class=\"colab-df-container\">\n",
              "    <div>\n",
              "<style scoped>\n",
              "    .dataframe tbody tr th:only-of-type {\n",
              "        vertical-align: middle;\n",
              "    }\n",
              "\n",
              "    .dataframe tbody tr th {\n",
              "        vertical-align: top;\n",
              "    }\n",
              "\n",
              "    .dataframe thead th {\n",
              "        text-align: right;\n",
              "    }\n",
              "</style>\n",
              "<table border=\"1\" class=\"dataframe\">\n",
              "  <thead>\n",
              "    <tr style=\"text-align: right;\">\n",
              "      <th></th>\n",
              "      <th>SALDO</th>\n",
              "      <th>FREKUENSI_SALDO</th>\n",
              "      <th>TOTAL_PEMBELIAN</th>\n",
              "      <th>PEMBELIAN_TUNGGAL</th>\n",
              "      <th>PEMBELIAN_CICILAN</th>\n",
              "      <th>PENARIKAN_TUNAI</th>\n",
              "      <th>FREKUENSI_PEMBELIAN</th>\n",
              "      <th>FREKUENSI_PEMBELIAN_TUNGGAL</th>\n",
              "      <th>FREKUENSI_PEMBELIAN_CICILAN</th>\n",
              "      <th>FREKUENSI_PENARIKAN_TUNAI</th>\n",
              "      <th>TRANSAKSI_PENARIKAN_TUNAI</th>\n",
              "      <th>TRANSAKSI_PEMBELIAN</th>\n",
              "      <th>BATAS_KREDIT</th>\n",
              "      <th>PEMBAYARAN</th>\n",
              "      <th>PEMBAYARAN_MINIMUM</th>\n",
              "      <th>PERSEN_PEMBAYARAN_LUNAS</th>\n",
              "      <th>MASA_LAYANAN</th>\n",
              "      <th>cluster</th>\n",
              "    </tr>\n",
              "  </thead>\n",
              "  <tbody>\n",
              "    <tr>\n",
              "      <th>0</th>\n",
              "      <td>40.900749</td>\n",
              "      <td>0.818182</td>\n",
              "      <td>95.40</td>\n",
              "      <td>0.00</td>\n",
              "      <td>95.40</td>\n",
              "      <td>0.000000</td>\n",
              "      <td>0.166667</td>\n",
              "      <td>0.000000</td>\n",
              "      <td>0.083333</td>\n",
              "      <td>0.00</td>\n",
              "      <td>0</td>\n",
              "      <td>2</td>\n",
              "      <td>1000.0</td>\n",
              "      <td>201.802084</td>\n",
              "      <td>139.509787</td>\n",
              "      <td>0.000000</td>\n",
              "      <td>12</td>\n",
              "      <td>1</td>\n",
              "    </tr>\n",
              "    <tr>\n",
              "      <th>1</th>\n",
              "      <td>3202.467416</td>\n",
              "      <td>0.909091</td>\n",
              "      <td>0.00</td>\n",
              "      <td>0.00</td>\n",
              "      <td>0.00</td>\n",
              "      <td>6442.945483</td>\n",
              "      <td>0.000000</td>\n",
              "      <td>0.000000</td>\n",
              "      <td>0.000000</td>\n",
              "      <td>0.25</td>\n",
              "      <td>4</td>\n",
              "      <td>0</td>\n",
              "      <td>7000.0</td>\n",
              "      <td>4103.032597</td>\n",
              "      <td>1072.340217</td>\n",
              "      <td>0.222222</td>\n",
              "      <td>12</td>\n",
              "      <td>0</td>\n",
              "    </tr>\n",
              "    <tr>\n",
              "      <th>2</th>\n",
              "      <td>2495.148862</td>\n",
              "      <td>1.000000</td>\n",
              "      <td>773.17</td>\n",
              "      <td>773.17</td>\n",
              "      <td>0.00</td>\n",
              "      <td>0.000000</td>\n",
              "      <td>1.000000</td>\n",
              "      <td>1.000000</td>\n",
              "      <td>0.000000</td>\n",
              "      <td>0.00</td>\n",
              "      <td>0</td>\n",
              "      <td>12</td>\n",
              "      <td>7500.0</td>\n",
              "      <td>622.066742</td>\n",
              "      <td>627.284787</td>\n",
              "      <td>0.000000</td>\n",
              "      <td>12</td>\n",
              "      <td>0</td>\n",
              "    </tr>\n",
              "    <tr>\n",
              "      <th>3</th>\n",
              "      <td>817.714335</td>\n",
              "      <td>1.000000</td>\n",
              "      <td>16.00</td>\n",
              "      <td>16.00</td>\n",
              "      <td>0.00</td>\n",
              "      <td>0.000000</td>\n",
              "      <td>0.083333</td>\n",
              "      <td>0.083333</td>\n",
              "      <td>0.000000</td>\n",
              "      <td>0.00</td>\n",
              "      <td>0</td>\n",
              "      <td>1</td>\n",
              "      <td>1200.0</td>\n",
              "      <td>678.334763</td>\n",
              "      <td>244.791237</td>\n",
              "      <td>0.000000</td>\n",
              "      <td>12</td>\n",
              "      <td>1</td>\n",
              "    </tr>\n",
              "    <tr>\n",
              "      <th>4</th>\n",
              "      <td>1809.828751</td>\n",
              "      <td>1.000000</td>\n",
              "      <td>1333.28</td>\n",
              "      <td>0.00</td>\n",
              "      <td>1333.28</td>\n",
              "      <td>0.000000</td>\n",
              "      <td>0.666667</td>\n",
              "      <td>0.000000</td>\n",
              "      <td>0.583333</td>\n",
              "      <td>0.00</td>\n",
              "      <td>0</td>\n",
              "      <td>8</td>\n",
              "      <td>1800.0</td>\n",
              "      <td>1400.057770</td>\n",
              "      <td>2407.246035</td>\n",
              "      <td>0.000000</td>\n",
              "      <td>12</td>\n",
              "      <td>1</td>\n",
              "    </tr>\n",
              "  </tbody>\n",
              "</table>\n",
              "</div>\n",
              "    <div class=\"colab-df-buttons\">\n",
              "\n",
              "  <div class=\"colab-df-container\">\n",
              "    <button class=\"colab-df-convert\" onclick=\"convertToInteractive('df-0adbb423-1aa0-4939-b012-09a230c945d6')\"\n",
              "            title=\"Convert this dataframe to an interactive table.\"\n",
              "            style=\"display:none;\">\n",
              "\n",
              "  <svg xmlns=\"http://www.w3.org/2000/svg\" height=\"24px\" viewBox=\"0 -960 960 960\">\n",
              "    <path d=\"M120-120v-720h720v720H120Zm60-500h600v-160H180v160Zm220 220h160v-160H400v160Zm0 220h160v-160H400v160ZM180-400h160v-160H180v160Zm440 0h160v-160H620v160ZM180-180h160v-160H180v160Zm440 0h160v-160H620v160Z\"/>\n",
              "  </svg>\n",
              "    </button>\n",
              "\n",
              "  <style>\n",
              "    .colab-df-container {\n",
              "      display:flex;\n",
              "      gap: 12px;\n",
              "    }\n",
              "\n",
              "    .colab-df-convert {\n",
              "      background-color: #E8F0FE;\n",
              "      border: none;\n",
              "      border-radius: 50%;\n",
              "      cursor: pointer;\n",
              "      display: none;\n",
              "      fill: #1967D2;\n",
              "      height: 32px;\n",
              "      padding: 0 0 0 0;\n",
              "      width: 32px;\n",
              "    }\n",
              "\n",
              "    .colab-df-convert:hover {\n",
              "      background-color: #E2EBFA;\n",
              "      box-shadow: 0px 1px 2px rgba(60, 64, 67, 0.3), 0px 1px 3px 1px rgba(60, 64, 67, 0.15);\n",
              "      fill: #174EA6;\n",
              "    }\n",
              "\n",
              "    .colab-df-buttons div {\n",
              "      margin-bottom: 4px;\n",
              "    }\n",
              "\n",
              "    [theme=dark] .colab-df-convert {\n",
              "      background-color: #3B4455;\n",
              "      fill: #D2E3FC;\n",
              "    }\n",
              "\n",
              "    [theme=dark] .colab-df-convert:hover {\n",
              "      background-color: #434B5C;\n",
              "      box-shadow: 0px 1px 3px 1px rgba(0, 0, 0, 0.15);\n",
              "      filter: drop-shadow(0px 1px 2px rgba(0, 0, 0, 0.3));\n",
              "      fill: #FFFFFF;\n",
              "    }\n",
              "  </style>\n",
              "\n",
              "    <script>\n",
              "      const buttonEl =\n",
              "        document.querySelector('#df-0adbb423-1aa0-4939-b012-09a230c945d6 button.colab-df-convert');\n",
              "      buttonEl.style.display =\n",
              "        google.colab.kernel.accessAllowed ? 'block' : 'none';\n",
              "\n",
              "      async function convertToInteractive(key) {\n",
              "        const element = document.querySelector('#df-0adbb423-1aa0-4939-b012-09a230c945d6');\n",
              "        const dataTable =\n",
              "          await google.colab.kernel.invokeFunction('convertToInteractive',\n",
              "                                                    [key], {});\n",
              "        if (!dataTable) return;\n",
              "\n",
              "        const docLinkHtml = 'Like what you see? Visit the ' +\n",
              "          '<a target=\"_blank\" href=https://colab.research.google.com/notebooks/data_table.ipynb>data table notebook</a>'\n",
              "          + ' to learn more about interactive tables.';\n",
              "        element.innerHTML = '';\n",
              "        dataTable['output_type'] = 'display_data';\n",
              "        await google.colab.output.renderOutput(dataTable, element);\n",
              "        const docLink = document.createElement('div');\n",
              "        docLink.innerHTML = docLinkHtml;\n",
              "        element.appendChild(docLink);\n",
              "      }\n",
              "    </script>\n",
              "  </div>\n",
              "\n",
              "\n",
              "<div id=\"df-1304d4e2-2dbf-47c7-ae8f-5ac2bf352d4c\">\n",
              "  <button class=\"colab-df-quickchart\" onclick=\"quickchart('df-1304d4e2-2dbf-47c7-ae8f-5ac2bf352d4c')\"\n",
              "            title=\"Suggest charts\"\n",
              "            style=\"display:none;\">\n",
              "\n",
              "<svg xmlns=\"http://www.w3.org/2000/svg\" height=\"24px\"viewBox=\"0 0 24 24\"\n",
              "     width=\"24px\">\n",
              "    <g>\n",
              "        <path d=\"M19 3H5c-1.1 0-2 .9-2 2v14c0 1.1.9 2 2 2h14c1.1 0 2-.9 2-2V5c0-1.1-.9-2-2-2zM9 17H7v-7h2v7zm4 0h-2V7h2v10zm4 0h-2v-4h2v4z\"/>\n",
              "    </g>\n",
              "</svg>\n",
              "  </button>\n",
              "\n",
              "<style>\n",
              "  .colab-df-quickchart {\n",
              "      --bg-color: #E8F0FE;\n",
              "      --fill-color: #1967D2;\n",
              "      --hover-bg-color: #E2EBFA;\n",
              "      --hover-fill-color: #174EA6;\n",
              "      --disabled-fill-color: #AAA;\n",
              "      --disabled-bg-color: #DDD;\n",
              "  }\n",
              "\n",
              "  [theme=dark] .colab-df-quickchart {\n",
              "      --bg-color: #3B4455;\n",
              "      --fill-color: #D2E3FC;\n",
              "      --hover-bg-color: #434B5C;\n",
              "      --hover-fill-color: #FFFFFF;\n",
              "      --disabled-bg-color: #3B4455;\n",
              "      --disabled-fill-color: #666;\n",
              "  }\n",
              "\n",
              "  .colab-df-quickchart {\n",
              "    background-color: var(--bg-color);\n",
              "    border: none;\n",
              "    border-radius: 50%;\n",
              "    cursor: pointer;\n",
              "    display: none;\n",
              "    fill: var(--fill-color);\n",
              "    height: 32px;\n",
              "    padding: 0;\n",
              "    width: 32px;\n",
              "  }\n",
              "\n",
              "  .colab-df-quickchart:hover {\n",
              "    background-color: var(--hover-bg-color);\n",
              "    box-shadow: 0 1px 2px rgba(60, 64, 67, 0.3), 0 1px 3px 1px rgba(60, 64, 67, 0.15);\n",
              "    fill: var(--button-hover-fill-color);\n",
              "  }\n",
              "\n",
              "  .colab-df-quickchart-complete:disabled,\n",
              "  .colab-df-quickchart-complete:disabled:hover {\n",
              "    background-color: var(--disabled-bg-color);\n",
              "    fill: var(--disabled-fill-color);\n",
              "    box-shadow: none;\n",
              "  }\n",
              "\n",
              "  .colab-df-spinner {\n",
              "    border: 2px solid var(--fill-color);\n",
              "    border-color: transparent;\n",
              "    border-bottom-color: var(--fill-color);\n",
              "    animation:\n",
              "      spin 1s steps(1) infinite;\n",
              "  }\n",
              "\n",
              "  @keyframes spin {\n",
              "    0% {\n",
              "      border-color: transparent;\n",
              "      border-bottom-color: var(--fill-color);\n",
              "      border-left-color: var(--fill-color);\n",
              "    }\n",
              "    20% {\n",
              "      border-color: transparent;\n",
              "      border-left-color: var(--fill-color);\n",
              "      border-top-color: var(--fill-color);\n",
              "    }\n",
              "    30% {\n",
              "      border-color: transparent;\n",
              "      border-left-color: var(--fill-color);\n",
              "      border-top-color: var(--fill-color);\n",
              "      border-right-color: var(--fill-color);\n",
              "    }\n",
              "    40% {\n",
              "      border-color: transparent;\n",
              "      border-right-color: var(--fill-color);\n",
              "      border-top-color: var(--fill-color);\n",
              "    }\n",
              "    60% {\n",
              "      border-color: transparent;\n",
              "      border-right-color: var(--fill-color);\n",
              "    }\n",
              "    80% {\n",
              "      border-color: transparent;\n",
              "      border-right-color: var(--fill-color);\n",
              "      border-bottom-color: var(--fill-color);\n",
              "    }\n",
              "    90% {\n",
              "      border-color: transparent;\n",
              "      border-bottom-color: var(--fill-color);\n",
              "    }\n",
              "  }\n",
              "</style>\n",
              "\n",
              "  <script>\n",
              "    async function quickchart(key) {\n",
              "      const quickchartButtonEl =\n",
              "        document.querySelector('#' + key + ' button');\n",
              "      quickchartButtonEl.disabled = true;  // To prevent multiple clicks.\n",
              "      quickchartButtonEl.classList.add('colab-df-spinner');\n",
              "      try {\n",
              "        const charts = await google.colab.kernel.invokeFunction(\n",
              "            'suggestCharts', [key], {});\n",
              "      } catch (error) {\n",
              "        console.error('Error during call to suggestCharts:', error);\n",
              "      }\n",
              "      quickchartButtonEl.classList.remove('colab-df-spinner');\n",
              "      quickchartButtonEl.classList.add('colab-df-quickchart-complete');\n",
              "    }\n",
              "    (() => {\n",
              "      let quickchartButtonEl =\n",
              "        document.querySelector('#df-1304d4e2-2dbf-47c7-ae8f-5ac2bf352d4c button');\n",
              "      quickchartButtonEl.style.display =\n",
              "        google.colab.kernel.accessAllowed ? 'block' : 'none';\n",
              "    })();\n",
              "  </script>\n",
              "</div>\n",
              "\n",
              "    </div>\n",
              "  </div>\n"
            ],
            "application/vnd.google.colaboratory.intrinsic+json": {
              "type": "dataframe",
              "variable_name": "df",
              "summary": "{\n  \"name\": \"df\",\n  \"rows\": 8636,\n  \"fields\": [\n    {\n      \"column\": \"SALDO\",\n      \"properties\": {\n        \"dtype\": \"number\",\n        \"std\": 2095.5713001909066,\n        \"min\": 0.0,\n        \"max\": 19043.13856,\n        \"num_unique_values\": 8631,\n        \"samples\": [\n          605.744452,\n          162.722336,\n          12.313357\n        ],\n        \"semantic_type\": \"\",\n        \"description\": \"\"\n      }\n    },\n    {\n      \"column\": \"FREKUENSI_SALDO\",\n      \"properties\": {\n        \"dtype\": \"number\",\n        \"std\": 0.207696875761806,\n        \"min\": 0.0,\n        \"max\": 1.0,\n        \"num_unique_values\": 42,\n        \"samples\": [\n          0.555556,\n          0.75,\n          0.5\n        ],\n        \"semantic_type\": \"\",\n        \"description\": \"\"\n      }\n    },\n    {\n      \"column\": \"TOTAL_PEMBELIAN\",\n      \"properties\": {\n        \"dtype\": \"number\",\n        \"std\": 2167.107983870325,\n        \"min\": 0.0,\n        \"max\": 49039.57,\n        \"num_unique_values\": 6015,\n        \"samples\": [\n          360.7,\n          952.02,\n          2216.6\n        ],\n        \"semantic_type\": \"\",\n        \"description\": \"\"\n      }\n    },\n    {\n      \"column\": \"PEMBELIAN_TUNGGAL\",\n      \"properties\": {\n        \"dtype\": \"number\",\n        \"std\": 1684.3078031460302,\n        \"min\": 0.0,\n        \"max\": 40761.25,\n        \"num_unique_values\": 3922,\n        \"samples\": [\n          835.96,\n          2986.66,\n          4841.7\n        ],\n        \"semantic_type\": \"\",\n        \"description\": \"\"\n      }\n    },\n    {\n      \"column\": \"PEMBELIAN_CICILAN\",\n      \"properties\": {\n        \"dtype\": \"number\",\n        \"std\": 917.2451824827676,\n        \"min\": 0.0,\n        \"max\": 22500.0,\n        \"num_unique_values\": 4341,\n        \"samples\": [\n          86.22,\n          851.68,\n          447.95\n        ],\n        \"semantic_type\": \"\",\n        \"description\": \"\"\n      }\n    },\n    {\n      \"column\": \"PENARIKAN_TUNAI\",\n      \"properties\": {\n        \"dtype\": \"number\",\n        \"std\": 2121.4583028800544,\n        \"min\": 0.0,\n        \"max\": 47137.21176,\n        \"num_unique_values\": 4206,\n        \"samples\": [\n          215.132661,\n          2880.208755,\n          929.220085\n        ],\n        \"semantic_type\": \"\",\n        \"description\": \"\"\n      }\n    },\n    {\n      \"column\": \"FREKUENSI_PEMBELIAN\",\n      \"properties\": {\n        \"dtype\": \"number\",\n        \"std\": 0.40127264042483285,\n        \"min\": 0.0,\n        \"max\": 1.0,\n        \"num_unique_values\": 47,\n        \"samples\": [\n          0.3,\n          0.428571,\n          0.8\n        ],\n        \"semantic_type\": \"\",\n        \"description\": \"\"\n      }\n    },\n    {\n      \"column\": \"FREKUENSI_PEMBELIAN_TUNGGAL\",\n      \"properties\": {\n        \"dtype\": \"number\",\n        \"std\": 0.3000536065558267,\n        \"min\": 0.0,\n        \"max\": 1.0,\n        \"num_unique_values\": 47,\n        \"samples\": [\n          0.909091,\n          0.625,\n          0.181818\n        ],\n        \"semantic_type\": \"\",\n        \"description\": \"\"\n      }\n    },\n    {\n      \"column\": \"FREKUENSI_PEMBELIAN_CICILAN\",\n      \"properties\": {\n        \"dtype\": \"number\",\n        \"std\": 0.3980929442148493,\n        \"min\": 0.0,\n        \"max\": 1.0,\n        \"num_unique_values\": 47,\n        \"samples\": [\n          0.444444,\n          0.222222,\n          0.857143\n        ],\n        \"semantic_type\": \"\",\n        \"description\": \"\"\n      }\n    },\n    {\n      \"column\": \"FREKUENSI_PENARIKAN_TUNAI\",\n      \"properties\": {\n        \"dtype\": \"number\",\n        \"std\": 0.2017914306067979,\n        \"min\": 0.0,\n        \"max\": 1.5,\n        \"num_unique_values\": 54,\n        \"samples\": [\n          0.285714,\n          0.818182,\n          0.7\n        ],\n        \"semantic_type\": \"\",\n        \"description\": \"\"\n      }\n    },\n    {\n      \"column\": \"TRANSAKSI_PENARIKAN_TUNAI\",\n      \"properties\": {\n        \"dtype\": \"number\",\n        \"std\": 6,\n        \"min\": 0,\n        \"max\": 123,\n        \"num_unique_values\": 65,\n        \"samples\": [\n          47,\n          61,\n          0\n        ],\n        \"semantic_type\": \"\",\n        \"description\": \"\"\n      }\n    },\n    {\n      \"column\": \"TRANSAKSI_PEMBELIAN\",\n      \"properties\": {\n        \"dtype\": \"number\",\n        \"std\": 25,\n        \"min\": 0,\n        \"max\": 358,\n        \"num_unique_values\": 173,\n        \"samples\": [\n          162,\n          97,\n          79\n        ],\n        \"semantic_type\": \"\",\n        \"description\": \"\"\n      }\n    },\n    {\n      \"column\": \"BATAS_KREDIT\",\n      \"properties\": {\n        \"dtype\": \"number\",\n        \"std\": 3659.240379277908,\n        \"min\": 50.0,\n        \"max\": 30000.0,\n        \"num_unique_values\": 203,\n        \"samples\": [\n          9000.0,\n          3000.0,\n          7100.0\n        ],\n        \"semantic_type\": \"\",\n        \"description\": \"\"\n      }\n    },\n    {\n      \"column\": \"PEMBAYARAN\",\n      \"properties\": {\n        \"dtype\": \"number\",\n        \"std\": 2909.8100904456815,\n        \"min\": 0.049513,\n        \"max\": 50721.48336,\n        \"num_unique_values\": 8636,\n        \"samples\": [\n          1032.089965,\n          2514.118359,\n          1878.606679\n        ],\n        \"semantic_type\": \"\",\n        \"description\": \"\"\n      }\n    },\n    {\n      \"column\": \"PEMBAYARAN_MINIMUM\",\n      \"properties\": {\n        \"dtype\": \"number\",\n        \"std\": 2372.566350258239,\n        \"min\": 0.019163,\n        \"max\": 76406.20752,\n        \"num_unique_values\": 8635,\n        \"samples\": [\n          173.484575,\n          185.120378,\n          162.411202\n        ],\n        \"semantic_type\": \"\",\n        \"description\": \"\"\n      }\n    },\n    {\n      \"column\": \"PERSEN_PEMBAYARAN_LUNAS\",\n      \"properties\": {\n        \"dtype\": \"number\",\n        \"std\": 0.29627090941379924,\n        \"min\": 0.0,\n        \"max\": 1.0,\n        \"num_unique_values\": 47,\n        \"samples\": [\n          0.583333,\n          0.272727,\n          0.1\n        ],\n        \"semantic_type\": \"\",\n        \"description\": \"\"\n      }\n    },\n    {\n      \"column\": \"MASA_LAYANAN\",\n      \"properties\": {\n        \"dtype\": \"number\",\n        \"std\": 1,\n        \"min\": 6,\n        \"max\": 12,\n        \"num_unique_values\": 7,\n        \"samples\": [\n          12,\n          8,\n          6\n        ],\n        \"semantic_type\": \"\",\n        \"description\": \"\"\n      }\n    },\n    {\n      \"column\": \"cluster\",\n      \"properties\": {\n        \"dtype\": \"number\",\n        \"std\": 0,\n        \"min\": 0,\n        \"max\": 2,\n        \"num_unique_values\": 3,\n        \"samples\": [\n          1,\n          0,\n          2\n        ],\n        \"semantic_type\": \"\",\n        \"description\": \"\"\n      }\n    }\n  ]\n}"
            }
          },
          "metadata": {},
          "execution_count": 2
        }
      ]
    },
    {
      "cell_type": "markdown",
      "source": [
        "# **3. Data Splitting**"
      ],
      "metadata": {
        "id": "KkPem5eWL2UP"
      }
    },
    {
      "cell_type": "markdown",
      "source": [
        "Tahap Data Splitting bertujuan untuk memisahkan dataset menjadi dua bagian: data latih (training set) dan data uji (test set)."
      ],
      "metadata": {
        "id": "YYj1rl_JNI9Y"
      }
    },
    {
      "cell_type": "code",
      "source": [
        "X = df.drop(columns=['cluster'])\n",
        "y = df['cluster']  # Kolom cluster sebagai target\n",
        "\n",
        "# Membagi data menjadi training set dan testing set\n",
        "X_train, X_test, y_train, y_test = train_test_split(X, y, test_size=0.2, random_state=42, stratify=y)\n",
        "\n",
        "print(\"Jumlah data latih:\", len(X_train))\n",
        "print(\"Jumlah data uji:\", len(X_test))\n"
      ],
      "metadata": {
        "id": "OubAW-7ONKVj",
        "colab": {
          "base_uri": "https://localhost:8080/"
        },
        "outputId": "c2c8a19d-44b7-4231-f0dc-157c23abcb05"
      },
      "execution_count": 4,
      "outputs": [
        {
          "output_type": "stream",
          "name": "stdout",
          "text": [
            "Jumlah data latih: 6908\n",
            "Jumlah data uji: 1728\n"
          ]
        }
      ]
    },
    {
      "cell_type": "markdown",
      "source": [
        "# **4. Membangun Model Klasifikasi**\n"
      ],
      "metadata": {
        "id": "IVPbB03CMhTT"
      }
    },
    {
      "cell_type": "markdown",
      "source": [
        "## **a. Membangun Model Klasifikasi**"
      ],
      "metadata": {
        "id": "Ned1pL9zMmBK"
      }
    },
    {
      "cell_type": "markdown",
      "source": [
        "Setelah memilih algoritma klasifikasi yang sesuai, langkah selanjutnya adalah melatih model menggunakan data latih.\n",
        "\n",
        "Berikut adalah rekomendasi tahapannya.\n",
        "1. Pilih algoritma klasifikasi yang sesuai, seperti Logistic Regression, Decision Tree, Random Forest, atau K-Nearest Neighbors (KNN).\n",
        "2. Latih model menggunakan data latih."
      ],
      "metadata": {
        "id": "WAWzPOE4Nkti"
      }
    },
    {
      "cell_type": "code",
      "source": [
        "# Membuat dan melatih model Random Forest, Logistic Regression, Decision Tree, dan KNN\n",
        "models = {\n",
        "    \"Logistic Regression\": LogisticRegression(random_state=42, max_iter=1000),\n",
        "    \"Decision Tree\": DecisionTreeClassifier(random_state=42),\n",
        "    \"Random Forest\": RandomForestClassifier(random_state=42),\n",
        "    \"K-Nearest Neighbors\": KNeighborsClassifier()\n",
        "}\n",
        "\n",
        "# Evaluasi semua model\n",
        "results = {}\n",
        "\n",
        "for model_name, model in models.items():\n",
        "    print(f\"Evaluating {model_name}...\")\n",
        "\n",
        "    # Latih model\n",
        "    model.fit(X_train, y_train)\n",
        "\n",
        "    # Prediksi data uji\n",
        "    y_pred = model.predict(X_test)\n",
        "\n",
        "    # Hitung metrik evaluasi\n",
        "    accuracy = accuracy_score(y_test, y_pred)\n",
        "    f1 = f1_score(y_test, y_pred, average='weighted')\n",
        "    results[model_name] = {\"Accuracy\": accuracy, \"F1-Score\": f1}\n",
        "\n",
        "    # Tampilkan classification report\n",
        "    print(f\"Classification Report for {model_name}:\\n\")\n",
        "    print(classification_report(y_test, y_pred))\n",
        "\n",
        "# Menampilkan hasil evaluasi\n",
        "print(\"\\nSummary of Model Evaluation:\")\n",
        "for model_name, metrics in results.items():\n",
        "    print(f\"{model_name}: Accuracy = {metrics['Accuracy']:.2f}, F1-Score = {metrics['F1-Score']:.2f}\")\n"
      ],
      "metadata": {
        "id": "4JYxBe87NLDk",
        "colab": {
          "base_uri": "https://localhost:8080/"
        },
        "outputId": "2e692e93-764b-4a72-8e1e-41e684dc04e3"
      },
      "execution_count": 5,
      "outputs": [
        {
          "output_type": "stream",
          "name": "stdout",
          "text": [
            "Evaluating Logistic Regression...\n"
          ]
        },
        {
          "output_type": "stream",
          "name": "stderr",
          "text": [
            "/usr/local/lib/python3.11/dist-packages/sklearn/linear_model/_logistic.py:465: ConvergenceWarning: lbfgs failed to converge (status=1):\n",
            "STOP: TOTAL NO. of ITERATIONS REACHED LIMIT.\n",
            "\n",
            "Increase the number of iterations (max_iter) or scale the data as shown in:\n",
            "    https://scikit-learn.org/stable/modules/preprocessing.html\n",
            "Please also refer to the documentation for alternative solver options:\n",
            "    https://scikit-learn.org/stable/modules/linear_model.html#logistic-regression\n",
            "  n_iter_i = _check_optimize_result(\n"
          ]
        },
        {
          "output_type": "stream",
          "name": "stdout",
          "text": [
            "Classification Report for Logistic Regression:\n",
            "\n",
            "              precision    recall  f1-score   support\n",
            "\n",
            "           0       0.92      0.93      0.93       440\n",
            "           1       0.99      0.99      0.99      1262\n",
            "           2       0.36      0.38      0.37        26\n",
            "\n",
            "    accuracy                           0.96      1728\n",
            "   macro avg       0.76      0.77      0.76      1728\n",
            "weighted avg       0.96      0.96      0.96      1728\n",
            "\n",
            "Evaluating Decision Tree...\n",
            "Classification Report for Decision Tree:\n",
            "\n",
            "              precision    recall  f1-score   support\n",
            "\n",
            "           0       0.97      0.95      0.96       440\n",
            "           1       0.98      0.99      0.99      1262\n",
            "           2       1.00      0.96      0.98        26\n",
            "\n",
            "    accuracy                           0.98      1728\n",
            "   macro avg       0.98      0.97      0.98      1728\n",
            "weighted avg       0.98      0.98      0.98      1728\n",
            "\n",
            "Evaluating Random Forest...\n",
            "Classification Report for Random Forest:\n",
            "\n",
            "              precision    recall  f1-score   support\n",
            "\n",
            "           0       0.97      0.97      0.97       440\n",
            "           1       0.99      0.99      0.99      1262\n",
            "           2       1.00      0.85      0.92        26\n",
            "\n",
            "    accuracy                           0.99      1728\n",
            "   macro avg       0.99      0.94      0.96      1728\n",
            "weighted avg       0.99      0.99      0.99      1728\n",
            "\n",
            "Evaluating K-Nearest Neighbors...\n",
            "Classification Report for K-Nearest Neighbors:\n",
            "\n",
            "              precision    recall  f1-score   support\n",
            "\n",
            "           0       0.97      0.97      0.97       440\n",
            "           1       0.99      0.99      0.99      1262\n",
            "           2       1.00      0.85      0.92        26\n",
            "\n",
            "    accuracy                           0.99      1728\n",
            "   macro avg       0.99      0.94      0.96      1728\n",
            "weighted avg       0.99      0.99      0.99      1728\n",
            "\n",
            "\n",
            "Summary of Model Evaluation:\n",
            "Logistic Regression: Accuracy = 0.96, F1-Score = 0.96\n",
            "Decision Tree: Accuracy = 0.98, F1-Score = 0.98\n",
            "Random Forest: Accuracy = 0.99, F1-Score = 0.99\n",
            "K-Nearest Neighbors: Accuracy = 0.99, F1-Score = 0.99\n"
          ]
        }
      ]
    },
    {
      "cell_type": "markdown",
      "source": [
        "Tulis narasi atau penjelasan algoritma yang Anda gunakan."
      ],
      "metadata": {
        "id": "seYoHNY3XU1y"
      }
    },
    {
      "cell_type": "markdown",
      "source": [
        "## **b. Evaluasi Model Klasifikasi**"
      ],
      "metadata": {
        "id": "ergzChZFEL-O"
      }
    },
    {
      "cell_type": "markdown",
      "source": [
        "Berikut adalah **rekomendasi** tahapannya.\n",
        "1. Lakukan prediksi menggunakan data uji.\n",
        "2. Hitung metrik evaluasi seperti Accuracy dan F1-Score (Opsional: Precision dan Recall).\n",
        "3. Buat confusion matrix untuk melihat detail prediksi benar dan salah."
      ],
      "metadata": {
        "id": "zOm68u-7NpLT"
      }
    },
    {
      "cell_type": "code",
      "source": [
        "from sklearn.metrics import accuracy_score, f1_score, classification_report, confusion_matrix\n",
        "import seaborn as sns\n",
        "import matplotlib.pyplot as plt\n",
        "\n",
        "# Evaluasi Random Forest\n",
        "print(\"Evaluating Random Forest...\")\n",
        "rf_pred = models[\"Random Forest\"].predict(X_test)\n",
        "\n",
        "# Hitung metrik\n",
        "accuracy_rf = accuracy_score(y_test, rf_pred)\n",
        "f1_rf = f1_score(y_test, rf_pred, average='weighted')\n",
        "\n",
        "print(\"Random Forest Metrics:\")\n",
        "print(f\"Accuracy: {accuracy_rf:.2f}\")\n",
        "print(f\"F1-Score: {f1_rf:.2f}\")\n",
        "print(\"\\nClassification Report:\\n\", classification_report(y_test, rf_pred))\n",
        "\n",
        "# Confusion Matrix Random Forest\n",
        "cm_rf = confusion_matrix(y_test, rf_pred)\n",
        "plt.figure(figsize=(6, 5))\n",
        "sns.heatmap(cm_rf, annot=True, fmt='d', cmap='Blues', xticklabels=[0, 1, 2], yticklabels=[0, 1, 2])\n",
        "plt.title(\"Confusion Matrix: Random Forest\")\n",
        "plt.xlabel('Predicted')\n",
        "plt.ylabel('Actual')\n",
        "plt.show()\n",
        "\n",
        "# Evaluasi K-Nearest Neighbors\n",
        "print(\"Evaluating K-Nearest Neighbors (KNN)...\")\n",
        "knn_pred = models[\"K-Nearest Neighbors\"].predict(X_test)\n",
        "\n",
        "# Hitung metrik\n",
        "accuracy_knn = accuracy_score(y_test, knn_pred)\n",
        "f1_knn = f1_score(y_test, knn_pred, average='weighted')\n",
        "\n",
        "print(\"KNN Metrics:\")\n",
        "print(f\"Accuracy: {accuracy_knn:.2f}\")\n",
        "print(f\"F1-Score: {f1_knn:.2f}\")\n",
        "print(\"\\nClassification Report:\\n\", classification_report(y_test, knn_pred))\n",
        "\n",
        "# Confusion Matrix KNN\n",
        "cm_knn = confusion_matrix(y_test, knn_pred)\n",
        "plt.figure(figsize=(6, 5))\n",
        "sns.heatmap(cm_knn, annot=True, fmt='d', cmap='Blues', xticklabels=[0, 1, 2], yticklabels=[0, 1, 2])\n",
        "plt.title(\"Confusion Matrix: KNN\")\n",
        "plt.xlabel('Predicted')\n",
        "plt.ylabel('Actual')\n",
        "plt.show()\n"
      ],
      "metadata": {
        "id": "tMq4QAssNLip",
        "colab": {
          "base_uri": "https://localhost:8080/",
          "height": 1000
        },
        "outputId": "7cf6e7df-13c1-4a6e-a8cb-a300739d62b8"
      },
      "execution_count": 7,
      "outputs": [
        {
          "output_type": "stream",
          "name": "stdout",
          "text": [
            "Evaluating Random Forest...\n",
            "Random Forest Metrics:\n",
            "Accuracy: 0.99\n",
            "F1-Score: 0.99\n",
            "\n",
            "Classification Report:\n",
            "               precision    recall  f1-score   support\n",
            "\n",
            "           0       0.97      0.97      0.97       440\n",
            "           1       0.99      0.99      0.99      1262\n",
            "           2       1.00      0.85      0.92        26\n",
            "\n",
            "    accuracy                           0.99      1728\n",
            "   macro avg       0.99      0.94      0.96      1728\n",
            "weighted avg       0.99      0.99      0.99      1728\n",
            "\n"
          ]
        },
        {
          "output_type": "display_data",
          "data": {
            "text/plain": [
              "<Figure size 600x500 with 2 Axes>"
            ],
            "image/png": "[encoded data removed]"
          },
          "metadata": {}
        },
        {
          "output_type": "stream",
          "name": "stdout",
          "text": [
            "Evaluating K-Nearest Neighbors (KNN)...\n",
            "KNN Metrics:\n",
            "Accuracy: 0.99\n",
            "F1-Score: 0.99\n",
            "\n",
            "Classification Report:\n",
            "               precision    recall  f1-score   support\n",
            "\n",
            "           0       0.97      0.97      0.97       440\n",
            "           1       0.99      0.99      0.99      1262\n",
            "           2       1.00      0.85      0.92        26\n",
            "\n",
            "    accuracy                           0.99      1728\n",
            "   macro avg       0.99      0.94      0.96      1728\n",
            "weighted avg       0.99      0.99      0.99      1728\n",
            "\n"
          ]
        },
        {
          "output_type": "display_data",
          "data": {
            "text/plain": [
              "<Figure size 600x500 with 2 Axes>"
            ],
            "image/png": "[encoded data removed]"
          },
          "metadata": {}
        }
      ]
    },
    {
      "cell_type": "markdown",
      "source": [
        "<h1>Hasil Evaluasi Algoritma: Random Forest vs K-Nearest Neighbors (KNN)</h1>\n",
        "\n",
        "<h2>1. Random Forest</h2>\n",
        "<p><strong>Accuracy:</strong> 0.99</p>\n",
        "<p><strong>F1-Score:</strong> 0.99</p>\n",
        "<h3>Classification Report:</h3>\n",
        "<pre>\n",
        "               precision    recall  f1-score   support\n",
        "\n",
        "           0       0.97      0.97      0.97       440\n",
        "           1       0.99      0.99      0.99      1262\n",
        "           2       1.00      0.85      0.92        26\n",
        "\n",
        "    accuracy                           0.99      1728\n",
        "   macro avg       0.99      0.94      0.96      1728\n",
        "weighted avg       0.99      0.99      0.99      1728\n",
        "</pre>\n",
        "\n",
        "<h2>2. K-Nearest Neighbors (KNN)</h2>\n",
        "<p><strong>Accuracy:</strong> 0.99</p>\n",
        "<p><strong>F1-Score:</strong> 0.99</p>\n",
        "<h3>Classification Report:</h3>\n",
        "<pre>\n",
        "               precision    recall  f1-score   support\n",
        "\n",
        "           0       0.97      0.97      0.97       440\n",
        "           1       0.99      0.99      0.99      1262\n",
        "           2       1.00      0.85      0.92        26\n",
        "\n",
        "    accuracy                           0.99      1728\n",
        "   macro avg       0.99      0.94      0.96      1728\n",
        "weighted avg       0.99      0.99      0.99      1728\n",
        "</pre>\n",
        "\n",
        "<h2>Perbandingan Hasil Random Forest vs K-Nearest Neighbors (KNN)</h2>\n",
        "<p><strong>Accuracy dan F1-Score:</strong> Kedua algoritma, baik Random Forest maupun KNN, menghasilkan <strong>Accuracy</strong> dan <strong>F1-Score</strong> yang sangat baik, masing-masing mencapai 0.99. Ini menunjukkan bahwa kedua model memiliki performa yang hampir identik pada dataset ini.</p>\n",
        "\n",
        "<p><strong>Precision dan Recall:</strong> Keduanya menunjukkan hasil yang serupa dalam hal <strong>precision</strong> dan <strong>recall</strong> untuk masing-masing kelas. Kelas 0 dan 1 memiliki <strong>precision</strong> dan <strong>recall</strong> yang sangat baik. Namun, untuk kelas minoritas (kelas 2), meskipun <strong>recall</strong> telah meningkat secara signifikan, <strong>precision</strong> untuk kelas 2 lebih rendah jika dibandingkan dengan kelas 0 dan 1 (masih sangat baik, namun ada beberapa false positives).</p>\n"
      ],
      "metadata": {
        "id": "H4_9OwrsXZlz"
      }
    },
    {
      "cell_type": "markdown",
      "source": [
        "## **c. Tuning Model Klasifikasi (Optional)**"
      ],
      "metadata": {
        "id": "ph9yIYDXEPuB"
      }
    },
    {
      "cell_type": "markdown",
      "source": [
        "Gunakan GridSearchCV, RandomizedSearchCV, atau metode lainnya untuk mencari kombinasi hyperparameter terbaik"
      ],
      "metadata": {
        "id": "-Bikx3LINv5e"
      }
    },
    {
      "cell_type": "code",
      "source": [
        "from sklearn.model_selection import GridSearchCV\n",
        "\n",
        "# Parameter grid untuk Random Forest\n",
        "param_grid_rf = {\n",
        "    'n_estimators': [50, 100, 200],\n",
        "    'max_depth': [10, 20, None],\n",
        "    'min_samples_split': [2, 5, 10],\n",
        "    'min_samples_leaf': [1, 2, 4]\n",
        "}\n",
        "\n",
        "# Inisialisasi model Random Forest\n",
        "rf_model = RandomForestClassifier(random_state=42)\n",
        "\n",
        "# GridSearchCV untuk Random Forest\n",
        "grid_rf = GridSearchCV(\n",
        "    estimator=rf_model,\n",
        "    param_grid=param_grid_rf,\n",
        "    cv=5,\n",
        "    scoring='accuracy',\n",
        "    verbose=1,\n",
        "    n_jobs=-1\n",
        ")\n",
        "\n",
        "# Melatih model dengan GridSearchCV\n",
        "grid_rf.fit(X_train, y_train)\n",
        "\n",
        "# Hyperparameter terbaik\n",
        "print(\"Best Parameters:\", grid_rf.best_params_)\n"
      ],
      "metadata": {
        "id": "winbFzb8NL95",
        "colab": {
          "base_uri": "https://localhost:8080/"
        },
        "outputId": "a60a348c-3d13-4b8b-cb7d-67f0f54e7616"
      },
      "execution_count": 9,
      "outputs": [
        {
          "output_type": "stream",
          "name": "stdout",
          "text": [
            "Fitting 5 folds for each of 81 candidates, totalling 405 fits\n",
            "Best Parameters: {'max_depth': 20, 'min_samples_leaf': 1, 'min_samples_split': 10, 'n_estimators': 50}\n"
          ]
        }
      ]
    },
    {
      "cell_type": "markdown",
      "source": [
        "## **d. Evaluasi Model Klasifikasi setelah Tuning (Optional)**"
      ],
      "metadata": {
        "id": "hE7pqlEPEYzI"
      }
    },
    {
      "cell_type": "markdown",
      "source": [
        "Berikut adalah rekomendasi tahapannya.\n",
        "1. Gunakan model dengan hyperparameter terbaik.\n",
        "2. Hitung ulang metrik evaluasi untuk melihat apakah ada peningkatan performa."
      ],
      "metadata": {
        "id": "feaPESoeN0zz"
      }
    },
    {
      "cell_type": "code",
      "source": [
        "# Menggunakan model terbaik dari GridSearchCV\n",
        "best_rf_model = grid_rf.best_estimator_\n",
        "\n",
        "# Prediksi data uji\n",
        "best_rf_pred = best_rf_model.predict(X_test)\n",
        "\n",
        "# Hitung metrik evaluasi\n",
        "accuracy_best_rf = accuracy_score(y_test, best_rf_pred)\n",
        "f1_best_rf = f1_score(y_test, best_rf_pred, average='weighted')\n",
        "\n",
        "print(\"Evaluation Metrics for Tuned Random Forest:\")\n",
        "print(f\"Accuracy: {accuracy_best_rf:.2f}\")\n",
        "print(f\"F1-Score: {f1_best_rf:.2f}\")\n",
        "print(\"\\nClassification Report:\\n\", classification_report(y_test, best_rf_pred))\n",
        "\n",
        "# Confusion Matrix untuk model terbaik\n",
        "cm_best_rf = confusion_matrix(y_test, best_rf_pred)\n",
        "plt.figure(figsize=(6, 5))\n",
        "sns.heatmap(cm_best_rf, annot=True, fmt='d', cmap='Blues', xticklabels=[0, 1, 2], yticklabels=[0, 1, 2])\n",
        "plt.title(\"Confusion Matrix: Tuned Random Forest\")\n",
        "plt.xlabel('Predicted')\n",
        "plt.ylabel('Actual')\n",
        "plt.show()\n"
      ],
      "metadata": {
        "id": "HTXZRvEeNMb1",
        "colab": {
          "base_uri": "https://localhost:8080/",
          "height": 747
        },
        "outputId": "b6c9da3f-a917-4274-99eb-db195e93f371"
      },
      "execution_count": 10,
      "outputs": [
        {
          "output_type": "stream",
          "name": "stdout",
          "text": [
            "Evaluation Metrics for Tuned Random Forest:\n",
            "Accuracy: 0.98\n",
            "F1-Score: 0.98\n",
            "\n",
            "Classification Report:\n",
            "               precision    recall  f1-score   support\n",
            "\n",
            "           0       0.97      0.96      0.97       440\n",
            "           1       0.99      0.99      0.99      1262\n",
            "           2       1.00      0.85      0.92        26\n",
            "\n",
            "    accuracy                           0.98      1728\n",
            "   macro avg       0.99      0.93      0.96      1728\n",
            "weighted avg       0.98      0.98      0.98      1728\n",
            "\n"
          ]
        },
        {
          "output_type": "display_data",
          "data": {
            "text/plain": [
              "<Figure size 600x500 with 2 Axes>"
            ],
            "image/png": "[encoded data removed]"
          },
          "metadata": {}
        }
      ]
    },
    {
      "cell_type": "markdown",
      "source": [
        "## **e. Analisis Hasil Evaluasi Model Klasifikasi**"
      ],
      "metadata": {
        "id": "ZRsOdm4uEgAW"
      }
    },
    {
      "cell_type": "markdown",
      "source": [
        "<h2>Bandingkan Hasil Evaluasi Sebelum dan Setelah Tuning:</h2>\n",
        "<p>Accuracy model sebelum tuning (Random Forest) adalah sekitar <strong>0.99</strong>, dan setelah tuning menggunakan GridSearchCV, accuracy menurun sedikit menjadi <strong>0.98</strong>.</p>\n",
        "<p>F1-Score untuk model sebelum tuning adalah sekitar <strong>0.99</strong>, dan setelah tuning menjadi <strong>0.98</strong>.</p>\n",
        "\n",
        "<h3>Perubahan Hasil Setelah Tuning:</h3>\n",
        "<p>Meskipun ada penurunan kecil pada Accuracy dan F1-Score, perbaikan yang signifikan terjadi pada <strong>Precision</strong> dan <strong>Recall</strong> untuk kelas 2 (kelas minoritas), yang menunjukkan bahwa model lebih baik dalam menangani kelas minoritas setelah tuning.</p>\n",
        "\n",
        "<h3>Identifikasi Kelemahan Model:</h3>\n",
        "<ul>\n",
        "  <li><strong>Precision dan Recall untuk Kelas 0:</strong><br> Precision untuk kelas 0 sedikit menurun setelah tuning, tetapi masih cukup tinggi (<strong>97%</strong>) dan Recall sedikit menurun menjadi <strong>96%</strong>. Hal ini berarti model cukup baik dalam memprediksi kelas 0, meskipun ada sedikit penurunan setelah tuning.</li>\n",
        "  \n",
        "  <li><strong>Kelas 2 (Minoritas):</strong><br> Recall untuk kelas 2 meningkat drastis, yang menunjukkan bahwa tuning sangat membantu dalam menangani kelas minoritas. Namun, Precision untuk kelas 2 tidak setinggi kelas 0 dan 1 (<strong>100%</strong> di kelas 2, tapi hanya <strong>92%</strong> setelah tuning). Ini menunjukkan bahwa meskipun model lebih baik dalam mendeteksi kelas 2, masih ada beberapa false positive yang mungkin terjadi.</li>\n",
        "</ul>\n",
        "\n",
        "<h3>Apakah Model Mengalami Overfitting atau Underfitting?</h3>\n",
        "<ul>\n",
        "  <li><strong>Overfitting:</strong> Tidak terlihat adanya indikasi overfitting karena model masih menunjukkan performa yang baik pada data uji setelah tuning. Penurunan kecil pada accuracy dan F1-Score justru mengindikasikan model lebih general, bukan overfit pada data latih.</li>\n",
        "  <li><strong>Underfitting:</strong> Model tidak menunjukkan indikasi underfitting, karena performa yang cukup tinggi tercatat pada semua metrik evaluasi.</li>\n",
        "</ul>\n",
        "\n",
        "<h3>Rekomendasi Tindakan Lanjutan:</h3>\n",
        "<ul>\n",
        "  <li><strong>Meningkatkan Data untuk Kelas Minoritas:</strong><br> Meskipun ada perbaikan signifikan pada kelas minoritas setelah tuning, mengumpulkan lebih banyak data untuk kelas 2 akan sangat membantu model agar dapat mengenali pola dengan lebih baik.</li>\n",
        "  \n",
        "  <li><strong>Menggunakan Teknik Pembobotan atau SMOTE:</strong><br> Menggunakan teknik seperti SMOTE (Synthetic Minority Over-sampling Technique) atau pemberian bobot pada kelas minoritas dapat membantu meningkatkan performa pada kelas yang kurang terwakili, sehingga Precision dan Recall untuk kelas 2 bisa lebih tinggi.</li>\n",
        "  \n",
        "  <li><strong>Eksplorasi Algoritma Lain:</strong><br> Meskipun Random Forest sudah memberikan hasil yang sangat baik, Peneliti selanjutnya juga bisa mencoba algoritma lain seperti Gradient Boosting atau XGBoost untuk melihat apakah mereka dapat memberikan hasil yang lebih baik, terutama dalam menangani data tidak seimbang.</li>\n",
        "  \n",
        "  <li><strong>Hyperparameter Tuning Lanjutan:</strong><br> Melakukan RandomizedSearchCV atau pencarian grid dengan lebih banyak variasi parameter untuk meningkatkan hasil tuning lebih lanjut, terutama pada parameter min_samples_split dan max_features.</li>\n",
        "</ul>\n",
        "\n",
        "<p>Dengan langkah-langkah ini, model dapat lebih baik dalam menangani ketidakseimbangan kelas dan meningkatkan Precision, Recall, dan F1-Score secara keseluruhan, terutama pada kelas minoritas.</p>\n"
      ],
      "metadata": {
        "id": "Hm3BhSi6N4_l"
      }
    }
  ]
}